{
 "cells": [
  {
   "cell_type": "code",
   "execution_count": 54,
   "id": "0593b8b0",
   "metadata": {},
   "outputs": [],
   "source": [
    "import fnmatch\n",
    "import os\n",
    "from pathlib import Path"
   ]
  },
  {
   "cell_type": "code",
   "execution_count": 1,
   "id": "a0574bac",
   "metadata": {},
   "outputs": [],
   "source": [
    "skip_dirs = {\n",
    "    \"__pycache__\",\n",
    "    \".venv\",\n",
    "    \"venv\",\n",
    "    \"env\",\n",
    "    \"build\",\n",
    "    \"dist\",\n",
    "    \"eggs\",\n",
    "    \".eggs\",\n",
    "    \"lib\",\n",
    "    \"lib64\",\n",
    "    \"parts\",\n",
    "    \"sdist\",\n",
    "    \"var\",\n",
    "    \"wheels\",\n",
    "    \"develop-eggs\",\n",
    "    \"downloads\",\n",
    "    \"mlruns\",\n",
    "    \"mlartifacts\",\n",
    "    \"media\",\n",
    "    \"data\",\n",
    "}"
   ]
  },
  {
   "cell_type": "code",
   "execution_count": 96,
   "id": "21f6b579",
   "metadata": {},
   "outputs": [],
   "source": [
    "def fast_scandir(dirname):\n",
    "    subfolders = [\n",
    "        f.path\n",
    "        for f in os.scandir(dirname)\n",
    "        if f.is_dir()\n",
    "        if not f.name.startswith(\".\") and f.name not in skip_dirs\n",
    "    ]\n",
    "    for dirname in list(subfolders):\n",
    "        if dirname not in skip_dirs:\n",
    "            subfolders.extend(fast_scandir(dirname))\n",
    "    return subfolders"
   ]
  },
  {
   "cell_type": "code",
   "execution_count": 97,
   "id": "e95dab91",
   "metadata": {},
   "outputs": [],
   "source": [
    "root_dir = Path(\"/home/petar/Documents\")\n",
    "subfolders = fast_scandir(root_dir)"
   ]
  },
  {
   "cell_type": "code",
   "execution_count": 98,
   "id": "cae0415c",
   "metadata": {},
   "outputs": [
    {
     "data": {
      "text/plain": [
       "346"
      ]
     },
     "execution_count": 98,
     "metadata": {},
     "output_type": "execute_result"
    }
   ],
   "source": [
    "len(subfolders)"
   ]
  },
  {
   "cell_type": "code",
   "execution_count": 99,
   "id": "aa656f55",
   "metadata": {},
   "outputs": [],
   "source": [
    "name = \"Charon\""
   ]
  },
  {
   "cell_type": "code",
   "execution_count": 71,
   "id": "5b8e1d47",
   "metadata": {},
   "outputs": [
    {
     "name": "stdout",
     "output_type": "stream",
     "text": [
      "Found folder: /home/petar/Documents/project-charon\n"
     ]
    }
   ],
   "source": [
    "match_score = {}\n",
    "k = 0\n",
    "found_folder = None\n",
    "for folder in subfolders:\n",
    "    splits = folder.split(\"/\")\n",
    "    last_folder = splits[-1]\n",
    "    name_parts = name.split(\" \")\n",
    "    match_score[folder] = 0\n",
    "\n",
    "    if len(name_parts) == 1:\n",
    "        if name.lower() in last_folder.lower():\n",
    "            print(f\"Found folder: {folder}\")\n",
    "            found_folder = folder\n",
    "            break\n",
    "\n",
    "    if len(name_parts) > 1:\n",
    "        if all(part.lower() in last_folder.lower() for part in name_parts):\n",
    "            print(f\"Found folder: {folder}\")\n",
    "            found_folder = folder\n",
    "            break\n",
    "        for part in name_parts:\n",
    "            if part.lower() in last_folder.lower():\n",
    "                match_score[folder] += 1\n",
    "\n",
    "if found_folder is None:\n",
    "    best_match = max(match_score, key=match_score.get)\n",
    "    print(f\"Best match: {best_match} with score {match_score[best_match]}\")\n",
    "    found_folder = best_match"
   ]
  },
  {
   "cell_type": "code",
   "execution_count": 72,
   "id": "0ea07daa",
   "metadata": {},
   "outputs": [
    {
     "data": {
      "text/plain": [
       "'/home/petar/Documents/project-charon'"
      ]
     },
     "execution_count": 72,
     "metadata": {},
     "output_type": "execute_result"
    }
   ],
   "source": [
    "found_folder"
   ]
  },
  {
   "cell_type": "code",
   "execution_count": 60,
   "id": "0b6786cf",
   "metadata": {},
   "outputs": [],
   "source": [
    "files = []\n",
    "for root, _, filenames in os.walk(found_folder):\n",
    "    if any(fnmatch.fnmatch(root, f\"*/{skip_dir}/*\") for skip_dir in skip_dirs):\n",
    "        continue\n",
    "    k = 0\n",
    "    for filename in filenames:\n",
    "        for skip_dir in skip_dirs:\n",
    "            if skip_dir in filename:\n",
    "                k = 1\n",
    "                break\n",
    "        if k == 0:\n",
    "            if filename.endswith(\".py\") or filename.endswith(\".ipynb\"):\n",
    "                files.append(str(Path(root) / filename))"
   ]
  },
  {
   "cell_type": "code",
   "execution_count": 61,
   "id": "96996c6b",
   "metadata": {},
   "outputs": [
    {
     "data": {
      "text/plain": [
       "['/home/petar/Documents/week-5_6_7/code/transformer_from_scratch/main.py',\n",
       " '/home/petar/Documents/week-5_6_7/code/transformer_from_scratch/inference.py',\n",
       " '/home/petar/Documents/week-5_6_7/code/transformer_from_scratch/config_loader.py',\n",
       " '/home/petar/Documents/week-5_6_7/code/transformer_from_scratch/scripts/evaluate.py',\n",
       " '/home/petar/Documents/week-5_6_7/code/transformer_from_scratch/scripts/decoder.py',\n",
       " '/home/petar/Documents/week-5_6_7/code/transformer_from_scratch/scripts/positional_encoding.py',\n",
       " '/home/petar/Documents/week-5_6_7/code/transformer_from_scratch/scripts/attention_mechanism.py',\n",
       " '/home/petar/Documents/week-5_6_7/code/transformer_from_scratch/scripts/encoder.py',\n",
       " '/home/petar/Documents/week-5_6_7/code/transformer_from_scratch/scripts/transformer.py',\n",
       " '/home/petar/Documents/week-5_6_7/code/transformer_from_scratch/scripts/feed_forward.py',\n",
       " '/home/petar/Documents/week-5_6_7/code/transformer_from_scratch/scripts/train.py']"
      ]
     },
     "execution_count": 61,
     "metadata": {},
     "output_type": "execute_result"
    }
   ],
   "source": [
    "files"
   ]
  },
  {
   "cell_type": "code",
   "execution_count": 90,
   "id": "6bf28008",
   "metadata": {},
   "outputs": [],
   "source": [
    "import subprocess\n",
    "\n",
    "tree = subprocess.run(\n",
    "    [\"tree\", \"-l\", str(found_folder)], capture_output=True\n",
    ").stdout.decode()"
   ]
  },
  {
   "cell_type": "code",
   "execution_count": 91,
   "id": "f3f5902e",
   "metadata": {},
   "outputs": [
    {
     "data": {
      "text/plain": [
       "'\\x1b[01;34m/home/petar/Documents/project-charon\\x1b[0m\\n├── \\x1b[01;34mconfig\\x1b[0m\\n├── \\x1b[00mcredentials.json\\x1b[0m\\n├── \\x1b[01;34mdata\\x1b[0m\\n│\\xa0\\xa0 ├── \\x1b[01;34mdatabase\\x1b[0m\\n│\\xa0\\xa0 ├── \\x1b[01;34mprocessed\\x1b[0m\\n│\\xa0\\xa0 └── \\x1b[01;34mraw\\x1b[0m\\n├── \\x1b[00mgoogle_credentials.json\\x1b[0m\\n├── \\x1b[01;34miac\\x1b[0m\\n├── \\x1b[00mmain.py\\x1b[0m\\n├── \\x1b[01;34mnotebooks\\x1b[0m\\n│\\xa0\\xa0 └── \\x1b[00mtesting_file_loading.ipynb\\x1b[0m\\n├── \\x1b[00mProject Plan - Office and Personal Assistant-Petar.pdf\\x1b[0m\\n├── \\x1b[00mpyproject.toml\\x1b[0m\\n├── \\x1b[00mReadme.md\\x1b[0m\\n├── \\x1b[00mREADME.md\\x1b[0m\\n├── \\x1b[01;34mresults\\x1b[0m\\n├── \\x1b[01;34msrc\\x1b[0m\\n│\\xa0\\xa0 ├── \\x1b[01;34magents\\x1b[0m\\n│\\xa0\\xa0 │\\xa0\\xa0 └── \\x1b[00mfile_search_agent.py\\x1b[0m\\n│\\xa0\\xa0 ├── \\x1b[01;34mconstants\\x1b[0m\\n│\\xa0\\xa0 │\\xa0\\xa0 └── \\x1b[00m__init__.py\\x1b[0m\\n│\\xa0\\xa0 ├── \\x1b[00mmain.py\\x1b[0m\\n│\\xa0\\xa0 ├── \\x1b[01;34mmodels\\x1b[0m\\n│\\xa0\\xa0 │\\xa0\\xa0 └── \\x1b[00m__init__.py\\x1b[0m\\n│\\xa0\\xa0 ├── \\x1b[01;34mpipelines\\x1b[0m\\n│\\xa0\\xa0 │\\xa0\\xa0 └── \\x1b[00m__init__.py\\x1b[0m\\n│\\xa0\\xa0 ├── \\x1b[01;34mschemas\\x1b[0m\\n│\\xa0\\xa0 │\\xa0\\xa0 └── \\x1b[00m__init__.py\\x1b[0m\\n│\\xa0\\xa0 ├── \\x1b[01;34mtools\\x1b[0m\\n│\\xa0\\xa0 │\\xa0\\xa0 └── \\x1b[00mfile_search_tools.py\\x1b[0m\\n│\\xa0\\xa0 └── \\x1b[01;34mutils\\x1b[0m\\n│\\xa0\\xa0     ├── \\x1b[00mdirectory_scanning.py\\x1b[0m\\n│\\xa0\\xa0     └── \\x1b[00m__init__.py\\x1b[0m\\n├── \\x1b[01;34mtests\\x1b[0m\\n└── \\x1b[00muv.lock\\x1b[0m\\n\\n18 directories, 18 files\\n'"
      ]
     },
     "execution_count": 91,
     "metadata": {},
     "output_type": "execute_result"
    }
   ],
   "source": [
    "tree"
   ]
  },
  {
   "cell_type": "code",
   "execution_count": 88,
   "id": "4d7c1c6d",
   "metadata": {},
   "outputs": [],
   "source": [
    "result = subprocess.run(\n",
    "    [\"tree\", \"-a\", \"-L\", \"3\", \"--dirsfirst\", str(found_folder)],\n",
    "    capture_output=True,\n",
    "    text=True,\n",
    "    timeout=10,\n",
    ")"
   ]
  },
  {
   "cell_type": "code",
   "execution_count": 83,
   "id": "fdabcef2",
   "metadata": {},
   "outputs": [
    {
     "data": {
      "text/plain": [
       "'\\x1b[01;34m/home/petar/Documents/project-charon\\x1b[0m\\n├── \\x1b[01;34mconfig\\x1b[0m\\n├── \\x1b[01;34mdata\\x1b[0m\\n│\\xa0\\xa0 ├── \\x1b[01;34mdatabase\\x1b[0m\\n│\\xa0\\xa0 │\\xa0\\xa0 └── \\x1b[00m.gitkeep\\x1b[0m\\n│\\xa0\\xa0 ├── \\x1b[01;34mprocessed\\x1b[0m\\n│\\xa0\\xa0 │\\xa0\\xa0 └── \\x1b[00m.gitkeep\\x1b[0m\\n│\\xa0\\xa0 └── \\x1b[01;34mraw\\x1b[0m\\n│\\xa0\\xa0     └── \\x1b[00m.gitkeep\\x1b[0m\\n├── \\x1b[01;34m.git\\x1b[0m\\n│\\xa0\\xa0 ├── \\x1b[01;34mbranches\\x1b[0m\\n│\\xa0\\xa0 ├── \\x1b[01;34mhooks\\x1b[0m\\n│\\xa0\\xa0 │\\xa0\\xa0 ├── \\x1b[01;32mapplypatch-msg.sample\\x1b[0m\\n│\\xa0\\xa0 │\\xa0\\xa0 ├── \\x1b[01;32mcommit-msg.sample\\x1b[0m\\n│\\xa0\\xa0 │\\xa0\\xa0 ├── \\x1b[01;32mfsmonitor-watchman.sample\\x1b[0m\\n│\\xa0\\xa0 │\\xa0\\xa0 ├── \\x1b[01;32mpost-update.sample\\x1b[0m\\n│\\xa0\\xa0 │\\xa0\\xa0 ├── \\x1b[01;32mpre-applypatch.sample\\x1b[0m\\n│\\xa0\\xa0 │\\xa0\\xa0 ├── \\x1b[01;32mpre-commit.sample\\x1b[0m\\n│\\xa0\\xa0 │\\xa0\\xa0 ├── \\x1b[01;32mpre-merge-commit.sample\\x1b[0m\\n│\\xa0\\xa0 │\\xa0\\xa0 ├── \\x1b[01;32mprepare-commit-msg.sample\\x1b[0m\\n│\\xa0\\xa0 │\\xa0\\xa0 ├── \\x1b[01;32mpre-push.sample\\x1b[0m\\n│\\xa0\\xa0 │\\xa0\\xa0 ├── \\x1b[01;32mpre-rebase.sample\\x1b[0m\\n│\\xa0\\xa0 │\\xa0\\xa0 ├── \\x1b[01;32mpre-receive.sample\\x1b[0m\\n│\\xa0\\xa0 │\\xa0\\xa0 ├── \\x1b[01;32mpush-to-checkout.sample\\x1b[0m\\n│\\xa0\\xa0 │\\xa0\\xa0 ├── \\x1b[01;32msendemail-validate.sample\\x1b[0m\\n│\\xa0\\xa0 │\\xa0\\xa0 └── \\x1b[01;32mupdate.sample\\x1b[0m\\n│\\xa0\\xa0 ├── \\x1b[01;34minfo\\x1b[0m\\n│\\xa0\\xa0 │\\xa0\\xa0 └── \\x1b[00mexclude\\x1b[0m\\n│\\xa0\\xa0 ├── \\x1b[01;34mlogs\\x1b[0m\\n│\\xa0\\xa0 │\\xa0\\xa0 ├── \\x1b[01;34mrefs\\x1b[0m\\n│\\xa0\\xa0 │\\xa0\\xa0 └── \\x1b[00mHEAD\\x1b[0m\\n│\\xa0\\xa0 ├── \\x1b[01;34mobjects\\x1b[0m\\n│\\xa0\\xa0 │\\xa0\\xa0 ├── \\x1b[01;34m04\\x1b[0m\\n│\\xa0\\xa0 │\\xa0\\xa0 ├── \\x1b[01;34m2a\\x1b[0m\\n│\\xa0\\xa0 │\\xa0\\xa0 ├── \\x1b[01;34m3b\\x1b[0m\\n│\\xa0\\xa0 │\\xa0\\xa0 ├── \\x1b[01;34m4b\\x1b[0m\\n│\\xa0\\xa0 │\\xa0\\xa0 ├── \\x1b[01;34m5a\\x1b[0m\\n│\\xa0\\xa0 │\\xa0\\xa0 ├── \\x1b[01;34m65\\x1b[0m\\n│\\xa0\\xa0 │\\xa0\\xa0 ├── \\x1b[01;34m9d\\x1b[0m\\n│\\xa0\\xa0 │\\xa0\\xa0 ├── \\x1b[01;34ma4\\x1b[0m\\n│\\xa0\\xa0 │\\xa0\\xa0 ├── \\x1b[01;34mc5\\x1b[0m\\n│\\xa0\\xa0 │\\xa0\\xa0 ├── \\x1b[01;34mce\\x1b[0m\\n│\\xa0\\xa0 │\\xa0\\xa0 ├── \\x1b[01;34md5\\x1b[0m\\n│\\xa0\\xa0 │\\xa0\\xa0 ├── \\x1b[01;34md9\\x1b[0m\\n│\\xa0\\xa0 │\\xa0\\xa0 ├── \\x1b[01;34mdc\\x1b[0m\\n│\\xa0\\xa0 │\\xa0\\xa0 ├── \\x1b[01;34me6\\x1b[0m\\n│\\xa0\\xa0 │\\xa0\\xa0 ├── \\x1b[01;34minfo\\x1b[0m\\n│\\xa0\\xa0 │\\xa0\\xa0 └── \\x1b[01;34mpack\\x1b[0m\\n│\\xa0\\xa0 ├── \\x1b[01;34mrefs\\x1b[0m\\n│\\xa0\\xa0 │\\xa0\\xa0 ├── \\x1b[01;34mheads\\x1b[0m\\n│\\xa0\\xa0 │\\xa0\\xa0 ├── \\x1b[01;34mremotes\\x1b[0m\\n│\\xa0\\xa0 │\\xa0\\xa0 └── \\x1b[01;34mtags\\x1b[0m\\n│\\xa0\\xa0 ├── \\x1b[00mCOMMIT_EDITMSG\\x1b[0m\\n│\\xa0\\xa0 ├── \\x1b[00mconfig\\x1b[0m\\n│\\xa0\\xa0 ├── \\x1b[00mdescription\\x1b[0m\\n│\\xa0\\xa0 ├── \\x1b[00mHEAD\\x1b[0m\\n│\\xa0\\xa0 └── \\x1b[00mindex\\x1b[0m\\n├── \\x1b[01;34miac\\x1b[0m\\n│\\xa0\\xa0 └── \\x1b[00m.gitkeep\\x1b[0m\\n├── \\x1b[01;34mnotebooks\\x1b[0m\\n│\\xa0\\xa0 └── \\x1b[00mtesting_file_loading.ipynb\\x1b[0m\\n├── \\x1b[01;34mresults\\x1b[0m\\n│\\xa0\\xa0 └── \\x1b[00m.gitkeep\\x1b[0m\\n├── \\x1b[01;34msrc\\x1b[0m\\n│\\xa0\\xa0 ├── \\x1b[01;34magents\\x1b[0m\\n│\\xa0\\xa0 │\\xa0\\xa0 └── \\x1b[00mfile_search_agent.py\\x1b[0m\\n│\\xa0\\xa0 ├── \\x1b[01;34mconstants\\x1b[0m\\n│\\xa0\\xa0 │\\xa0\\xa0 └── \\x1b[00m__init__.py\\x1b[0m\\n│\\xa0\\xa0 ├── \\x1b[01;34mmodels\\x1b[0m\\n│\\xa0\\xa0 │\\xa0\\xa0 └── \\x1b[00m__init__.py\\x1b[0m\\n│\\xa0\\xa0 ├── \\x1b[01;34mpipelines\\x1b[0m\\n│\\xa0\\xa0 │\\xa0\\xa0 └── \\x1b[00m__init__.py\\x1b[0m\\n│\\xa0\\xa0 ├── \\x1b[01;34mschemas\\x1b[0m\\n│\\xa0\\xa0 │\\xa0\\xa0 └── \\x1b[00m__init__.py\\x1b[0m\\n│\\xa0\\xa0 ├── \\x1b[01;34mtools\\x1b[0m\\n│\\xa0\\xa0 │\\xa0\\xa0 └── \\x1b[00mfile_search_tools.py\\x1b[0m\\n│\\xa0\\xa0 ├── \\x1b[01;34mutils\\x1b[0m\\n│\\xa0\\xa0 │\\xa0\\xa0 ├── \\x1b[00mdirectory_scanning.py\\x1b[0m\\n│\\xa0\\xa0 │\\xa0\\xa0 └── \\x1b[00m__init__.py\\x1b[0m\\n│\\xa0\\xa0 └── \\x1b[00mmain.py\\x1b[0m\\n├── \\x1b[01;34mtests\\x1b[0m\\n├── \\x1b[01;34m.venv\\x1b[0m\\n│\\xa0\\xa0 ├── \\x1b[01;34mbin\\x1b[0m\\n│\\xa0\\xa0 │\\xa0\\xa0 ├── \\x1b[00mactivate\\x1b[0m\\n│\\xa0\\xa0 │\\xa0\\xa0 ├── \\x1b[01;32mactivate.bat\\x1b[0m\\n│\\xa0\\xa0 │\\xa0\\xa0 ├── \\x1b[00mactivate.csh\\x1b[0m\\n│\\xa0\\xa0 │\\xa0\\xa0 ├── \\x1b[00mactivate.fish\\x1b[0m\\n│\\xa0\\xa0 │\\xa0\\xa0 ├── \\x1b[00mactivate.nu\\x1b[0m\\n│\\xa0\\xa0 │\\xa0\\xa0 ├── \\x1b[00mactivate.ps1\\x1b[0m\\n│\\xa0\\xa0 │\\xa0\\xa0 ├── \\x1b[00mactivate_this.py\\x1b[0m\\n│\\xa0\\xa0 │\\xa0\\xa0 ├── \\x1b[01;32mdeactivate.bat\\x1b[0m\\n│\\xa0\\xa0 │\\xa0\\xa0 ├── \\x1b[01;32mdebugpy\\x1b[0m\\n│\\xa0\\xa0 │\\xa0\\xa0 ├── \\x1b[01;32mdebugpy-adapter\\x1b[0m\\n│\\xa0\\xa0 │\\xa0\\xa0 ├── \\x1b[01;32mdistro\\x1b[0m\\n│\\xa0\\xa0 │\\xa0\\xa0 ├── \\x1b[01;32mdotenv\\x1b[0m\\n│\\xa0\\xa0 │\\xa0\\xa0 ├── \\x1b[01;32mhttpx\\x1b[0m\\n│\\xa0\\xa0 │\\xa0\\xa0 ├── \\x1b[01;32mhuggingface-cli\\x1b[0m\\n│\\xa0\\xa0 │\\xa0\\xa0 ├── \\x1b[01;32mipython\\x1b[0m\\n│\\xa0\\xa0 │\\xa0\\xa0 ├── \\x1b[01;32mipython3\\x1b[0m\\n│\\xa0\\xa0 │\\xa0\\xa0 ├── \\x1b[01;32mjp.py\\x1b[0m\\n│\\xa0\\xa0 │\\xa0\\xa0 ├── \\x1b[01;32mjsonschema\\x1b[0m\\n│\\xa0\\xa0 │\\xa0\\xa0 ├── \\x1b[01;32mjupyter\\x1b[0m\\n│\\xa0\\xa0 │\\xa0\\xa0 ├── \\x1b[01;32mjupyter-kernel\\x1b[0m\\n│\\xa0\\xa0 │\\xa0\\xa0 ├── \\x1b[01;32mjupyter-kernelspec\\x1b[0m\\n│\\xa0\\xa0 │\\xa0\\xa0 ├── \\x1b[01;32mjupyter-migrate\\x1b[0m\\n│\\xa0\\xa0 │\\xa0\\xa0 ├── \\x1b[01;32mjupyter-run\\x1b[0m\\n│\\xa0\\xa0 │\\xa0\\xa0 ├── \\x1b[01;32mjupyter-troubleshoot\\x1b[0m\\n│\\xa0\\xa0 │\\xa0\\xa0 ├── \\x1b[01;32mlitellm\\x1b[0m\\n│\\xa0\\xa0 │\\xa0\\xa0 ├── \\x1b[01;32mlitellm-proxy\\x1b[0m\\n│\\xa0\\xa0 │\\xa0\\xa0 ├── \\x1b[01;32mmcp\\x1b[0m\\n│\\xa0\\xa0 │\\xa0\\xa0 ├── \\x1b[01;32mnormalizer\\x1b[0m\\n│\\xa0\\xa0 │\\xa0\\xa0 ├── \\x1b[01;32mopenai\\x1b[0m\\n│\\xa0\\xa0 │\\xa0\\xa0 ├── \\x1b[01;32mopentelemetry-bootstrap\\x1b[0m\\n│\\xa0\\xa0 │\\xa0\\xa0 ├── \\x1b[01;32mopentelemetry-instrument\\x1b[0m\\n│\\xa0\\xa0 │\\xa0\\xa0 ├── \\x1b[01;32mpydoc.bat\\x1b[0m\\n│\\xa0\\xa0 │\\xa0\\xa0 ├── \\x1b[01;32mpygmentize\\x1b[0m\\n│\\xa0\\xa0 │\\xa0\\xa0 ├── \\x1b[01;36mpython\\x1b[0m -> \\x1b[01;32m/usr/bin/python3.12\\x1b[0m\\n│\\xa0\\xa0 │\\xa0\\xa0 ├── \\x1b[01;36mpython3\\x1b[0m -> \\x1b[01;32mpython\\x1b[0m\\n│\\xa0\\xa0 │\\xa0\\xa0 ├── \\x1b[01;36mpython3.12\\x1b[0m -> \\x1b[01;32mpython\\x1b[0m\\n│\\xa0\\xa0 │\\xa0\\xa0 ├── \\x1b[01;32mtiny-agents\\x1b[0m\\n│\\xa0\\xa0 │\\xa0\\xa0 ├── \\x1b[01;32mtqdm\\x1b[0m\\n│\\xa0\\xa0 │\\xa0\\xa0 ├── \\x1b[01;32mtree-cli\\x1b[0m\\n│\\xa0\\xa0 │\\xa0\\xa0 ├── \\x1b[01;32muvicorn\\x1b[0m\\n│\\xa0\\xa0 │\\xa0\\xa0 └── \\x1b[01;32mwatchmedo\\x1b[0m\\n│\\xa0\\xa0 ├── \\x1b[01;34mlib\\x1b[0m\\n│\\xa0\\xa0 │\\xa0\\xa0 └── \\x1b[01;34mpython3.12\\x1b[0m\\n│\\xa0\\xa0 ├── \\x1b[01;36mlib64\\x1b[0m -> \\x1b[01;34mlib\\x1b[0m\\n│\\xa0\\xa0 ├── \\x1b[01;34mshare\\x1b[0m\\n│\\xa0\\xa0 │\\xa0\\xa0 ├── \\x1b[01;34mjupyter\\x1b[0m\\n│\\xa0\\xa0 │\\xa0\\xa0 └── \\x1b[01;34mman\\x1b[0m\\n│\\xa0\\xa0 ├── \\x1b[00mCACHEDIR.TAG\\x1b[0m\\n│\\xa0\\xa0 ├── \\x1b[00m.gitignore\\x1b[0m\\n│\\xa0\\xa0 └── \\x1b[00mpyvenv.cfg\\x1b[0m\\n├── \\x1b[01;34m.vscode\\x1b[0m\\n│\\xa0\\xa0 └── \\x1b[00msettings.json\\x1b[0m\\n├── \\x1b[00mcredentials.json\\x1b[0m\\n├── \\x1b[00m.gitignore\\x1b[0m\\n├── \\x1b[00mgoogle_credentials.json\\x1b[0m\\n├── \\x1b[00mmain.py\\x1b[0m\\n├── \\x1b[00mProject Plan - Office and Personal Assistant-Petar.pdf\\x1b[0m\\n├── \\x1b[00mpyproject.toml\\x1b[0m\\n├── \\x1b[00m.python-version\\x1b[0m\\n├── \\x1b[00mReadme.md\\x1b[0m\\n├── \\x1b[00mREADME.md\\x1b[0m\\n└── \\x1b[00muv.lock\\x1b[0m\\n\\n54 directories, 91 files\\n'"
      ]
     },
     "execution_count": 83,
     "metadata": {},
     "output_type": "execute_result"
    }
   ],
   "source": [
    "result.stdout"
   ]
  },
  {
   "cell_type": "code",
   "execution_count": 84,
   "id": "5e1cbfa2",
   "metadata": {},
   "outputs": [],
   "source": [
    "import re"
   ]
  },
  {
   "cell_type": "code",
   "execution_count": 94,
   "id": "ca49c30a",
   "metadata": {},
   "outputs": [],
   "source": [
    "ansi_escape = re.compile(r\"\\x1B(?:[@-Z\\\\-_]|\\[[0-?]*[ -/]*[@-~])\")\n",
    "result = ansi_escape.sub(\"\", tree)"
   ]
  },
  {
   "cell_type": "code",
   "execution_count": 95,
   "id": "93068bab",
   "metadata": {},
   "outputs": [
    {
     "name": "stdout",
     "output_type": "stream",
     "text": [
      "/home/petar/Documents/project-charon\n",
      "├── config\n",
      "├── credentials.json\n",
      "├── data\n",
      "│   ├── database\n",
      "│   ├── processed\n",
      "│   └── raw\n",
      "├── google_credentials.json\n",
      "├── iac\n",
      "├── main.py\n",
      "├── notebooks\n",
      "│   └── testing_file_loading.ipynb\n",
      "├── Project Plan - Office and Personal Assistant-Petar.pdf\n",
      "├── pyproject.toml\n",
      "├── Readme.md\n",
      "├── README.md\n",
      "├── results\n",
      "├── src\n",
      "│   ├── agents\n",
      "│   │   └── file_search_agent.py\n",
      "│   ├── constants\n",
      "│   │   └── __init__.py\n",
      "│   ├── main.py\n",
      "│   ├── models\n",
      "│   │   └── __init__.py\n",
      "│   ├── pipelines\n",
      "│   │   └── __init__.py\n",
      "│   ├── schemas\n",
      "│   │   └── __init__.py\n",
      "│   ├── tools\n",
      "│   │   └── file_search_tools.py\n",
      "│   └── utils\n",
      "│       ├── directory_scanning.py\n",
      "│       └── __init__.py\n",
      "├── tests\n",
      "└── uv.lock\n",
      "\n",
      "18 directories, 18 files\n",
      "\n"
     ]
    }
   ],
   "source": [
    "print(result)"
   ]
  },
  {
   "cell_type": "code",
   "execution_count": 93,
   "id": "9c64e98e",
   "metadata": {},
   "outputs": [
    {
     "name": "stdout",
     "output_type": "stream",
     "text": [
      "\u001b[01;34m/home/petar/Documents/project-charon\u001b[0m\n",
      "├── \u001b[01;34mconfig\u001b[0m\n",
      "├── \u001b[00mcredentials.json\u001b[0m\n",
      "├── \u001b[01;34mdata\u001b[0m\n",
      "│   ├── \u001b[01;34mdatabase\u001b[0m\n",
      "│   ├── \u001b[01;34mprocessed\u001b[0m\n",
      "│   └── \u001b[01;34mraw\u001b[0m\n",
      "├── \u001b[00mgoogle_credentials.json\u001b[0m\n",
      "├── \u001b[01;34miac\u001b[0m\n",
      "├── \u001b[00mmain.py\u001b[0m\n",
      "├── \u001b[01;34mnotebooks\u001b[0m\n",
      "│   └── \u001b[00mtesting_file_loading.ipynb\u001b[0m\n",
      "├── \u001b[00mProject Plan - Office and Personal Assistant-Petar.pdf\u001b[0m\n",
      "├── \u001b[00mpyproject.toml\u001b[0m\n",
      "├── \u001b[00mReadme.md\u001b[0m\n",
      "├── \u001b[00mREADME.md\u001b[0m\n",
      "├── \u001b[01;34mresults\u001b[0m\n",
      "├── \u001b[01;34msrc\u001b[0m\n",
      "│   ├── \u001b[01;34magents\u001b[0m\n",
      "│   │   └── \u001b[00mfile_search_agent.py\u001b[0m\n",
      "│   ├── \u001b[01;34mconstants\u001b[0m\n",
      "│   │   └── \u001b[00m__init__.py\u001b[0m\n",
      "│   ├── \u001b[00mmain.py\u001b[0m\n",
      "│   ├── \u001b[01;34mmodels\u001b[0m\n",
      "│   │   └── \u001b[00m__init__.py\u001b[0m\n",
      "│   ├── \u001b[01;34mpipelines\u001b[0m\n",
      "│   │   └── \u001b[00m__init__.py\u001b[0m\n",
      "│   ├── \u001b[01;34mschemas\u001b[0m\n",
      "│   │   └── \u001b[00m__init__.py\u001b[0m\n",
      "│   ├── \u001b[01;34mtools\u001b[0m\n",
      "│   │   └── \u001b[00mfile_search_tools.py\u001b[0m\n",
      "│   └── \u001b[01;34mutils\u001b[0m\n",
      "│       ├── \u001b[00mdirectory_scanning.py\u001b[0m\n",
      "│       └── \u001b[00m__init__.py\u001b[0m\n",
      "├── \u001b[01;34mtests\u001b[0m\n",
      "└── \u001b[00muv.lock\u001b[0m\n",
      "\n",
      "18 directories, 18 files\n",
      "\n"
     ]
    }
   ],
   "source": [
    "print(tree)"
   ]
  },
  {
   "cell_type": "code",
   "execution_count": null,
   "id": "8e6ed474",
   "metadata": {},
   "outputs": [],
   "source": []
  }
 ],
 "metadata": {
  "kernelspec": {
   "display_name": "project-charon",
   "language": "python",
   "name": "python3"
  },
  "language_info": {
   "codemirror_mode": {
    "name": "ipython",
    "version": 3
   },
   "file_extension": ".py",
   "mimetype": "text/x-python",
   "name": "python",
   "nbconvert_exporter": "python",
   "pygments_lexer": "ipython3",
   "version": "3.12.3"
  }
 },
 "nbformat": 4,
 "nbformat_minor": 5
}
